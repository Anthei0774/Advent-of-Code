{
 "cells": [
  {
   "cell_type": "code",
   "execution_count": 45,
   "metadata": {},
   "outputs": [],
   "source": [
    "from typing import Union"
   ]
  },
  {
   "cell_type": "markdown",
   "metadata": {},
   "source": [
    "# Vector2D"
   ]
  },
  {
   "cell_type": "code",
   "execution_count": 46,
   "metadata": {},
   "outputs": [],
   "source": [
    "class Vector2D:\n",
    "    x: float\n",
    "    y: float\n",
    "\n",
    "    def __init__(self, x: float, y: float) -> None:\n",
    "        self.x = x\n",
    "        self.y = y\n",
    "\n",
    "    # Vector2D == Vector2D -> bool\n",
    "    def __eq__(self, other: \"Vector2D\") -> bool:\n",
    "        return (self.x == other.x) and (self.y == other.y)\n",
    "    \n",
    "    # Vector2D <= scalar -> bool\n",
    "    def __le__(self, other: float):\n",
    "        return (self.x <= other) and (self.y <= other)\n",
    "\n",
    "    # Vector2D >= scalar -> bool\n",
    "    def __ge__(self, other: float):\n",
    "        return (self.x >= other) and (self.y >= other)\n",
    "\n",
    "    # - Vector2D -> Vector2D\n",
    "    def __neg__(self) -> \"Vector2D\":\n",
    "        return Vector2D(-self.x, -self.y)\n",
    "\n",
    "    # Vector2D + Vector2D -> Vector2D\n",
    "    def __add__(self, V: \"Vector2D\") -> \"Vector2D\":\n",
    "        return Vector2D(self.x + V.x, self.y + V.y)\n",
    "\n",
    "    # Vector2D - Vector2D -> Vector2D\n",
    "    def __sub__(self, V: \"Vector2D\") -> \"Vector2D\":\n",
    "        return Vector2D(self.x - V.x, self.y - V.y)\n",
    "\n",
    "    # Vector2D * scalar -> Vector2D\n",
    "    # Vector2D * Vector2D -> scalar\n",
    "    def __mul__(self, other: Union[float, \"Vector2D\"]) -> Union[\"Vector2D\", float]:\n",
    "        if type(other) == float:\n",
    "            return Vector2D(self.x * other, self.y * other)\n",
    "        elif type(other) == Vector2D:\n",
    "            return self.x * other.x + self.y * other.y\n",
    "        else:\n",
    "            raise TypeError(\"NOT SUPPORTED TYPE\")\n",
    "    \n",
    "    # Vector2D / scalar -> Vector2D\n",
    "    def __truediv__(self, other: float) -> \"Vector2D\":\n",
    "        return Vector2D(self.x / other, self.y / other)\n",
    "\n",
    "    def __repr__(self) -> str:\n",
    "        return \"[\" + str(self.x) + \", \" + str(self.y) + \"]\""
   ]
  },
  {
   "cell_type": "markdown",
   "metadata": {},
   "source": [
    "# Object2D"
   ]
  },
  {
   "cell_type": "code",
   "execution_count": 47,
   "metadata": {},
   "outputs": [],
   "source": [
    "class Object2D:\n",
    "    p: Vector2D\n",
    "    v: Vector2D\n",
    "\n",
    "    def __init__(self, position: Vector2D, velocity: Vector2D) -> None:\n",
    "        self.p = position\n",
    "        self.v = velocity"
   ]
  },
  {
   "cell_type": "markdown",
   "metadata": {},
   "source": [
    "# Matrix22"
   ]
  },
  {
   "cell_type": "code",
   "execution_count": 48,
   "metadata": {},
   "outputs": [],
   "source": [
    "class Matrix22:\n",
    "    c1: Vector2D\n",
    "    c2: Vector2D\n",
    "\n",
    "    def __init__(self, c1: Vector2D, c2: Vector2D) -> None:\n",
    "        self.c1 = c1\n",
    "        self.c2 = c2\n",
    "    \n",
    "    def __eq__(self, other: \"Matrix22\") -> bool:\n",
    "        return (self.c1 == other.c1) and (self.c2 == other.c2)\n",
    "\n",
    "    def get_row(self, i: int) -> Vector2D:\n",
    "        if i == 1:\n",
    "            return Vector2D(self.c1.x, self.c2.x)\n",
    "        elif i == 2:\n",
    "            return Vector2D(self.c1.y, self.c2.y)\n",
    "        else:\n",
    "            raise IndexError(\"INVALID ROW INDEX\")\n",
    "\n",
    "    def __mul__(self, other: Union[float, Vector2D, \"Matrix22\"]) -> Union[Vector2D, \"Matrix22\"]:\n",
    "        if type(other) == float:\n",
    "            return Matrix22(self.c1 * other, self.c2 * other)\n",
    "        elif type(other) == Vector2D:\n",
    "            return Vector2D(self.get_row(1) * other, self.get_row(2) * other)\n",
    "        elif type(other) == Matrix22:\n",
    "            return Matrix22(self * other.c1, self * other.c2)\n",
    "        else:\n",
    "            raise TypeError(\"NOT SUPPORTED TYPE\")\n",
    "        \n",
    "    def __truediv__(self, other: float) -> \"Matrix22\":\n",
    "        return Matrix22(self.c1 / other, self.c2 / other)\n",
    "\n",
    "    def inverse(self) -> \"Matrix22\":\n",
    "        assert det(self) != 0\n",
    "        return Matrix22(Vector2D(self.c2.y, -self.c1.y), Vector2D(-self.c2.x, self.c1.x)) / det(self)\n",
    "\n",
    "    def __repr__(self) -> str:\n",
    "        return \"[\" + str(round(self.c1.x, 4)) + \", \" + str(round(self.c2.x, 4)) + \"]\\n[\" + str(round(self.c1.y, 4)) + \", \" + str(round(self.c2.y, 4)) + \"]\"\n",
    "    \n",
    "####################################################################################################\n",
    "\n",
    "A = Matrix22(Vector2D(1, 0), Vector2D(1, 1))\n",
    "assert det(A) == 1\n",
    "assert A.inverse() == Matrix22(Vector2D(1, 0), Vector2D(-1, 1))"
   ]
  },
  {
   "cell_type": "markdown",
   "metadata": {},
   "source": [
    "# Other"
   ]
  },
  {
   "cell_type": "code",
   "execution_count": 49,
   "metadata": {},
   "outputs": [],
   "source": [
    "def det(mat: Matrix22) -> float:\n",
    "    return mat.c1.x * mat.c2.y - mat.c1.y * mat.c2.x"
   ]
  }
 ],
 "metadata": {
  "kernelspec": {
   "display_name": "Python 3",
   "language": "python",
   "name": "python3"
  },
  "language_info": {
   "codemirror_mode": {
    "name": "ipython",
    "version": 3
   },
   "file_extension": ".py",
   "mimetype": "text/x-python",
   "name": "python",
   "nbconvert_exporter": "python",
   "pygments_lexer": "ipython3",
   "version": "3.12.4"
  }
 },
 "nbformat": 4,
 "nbformat_minor": 2
}
